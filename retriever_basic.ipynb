{
 "cells": [
  {
   "cell_type": "code",
   "execution_count": 17,
   "metadata": {},
   "outputs": [],
   "source": [
    "from langchain_community.document_loaders import PyPDFLoader\n",
    "\n",
    "loader = PyPDFLoader(\"https://dl.dell.com/content/manual24574503-integrated-dell-remote-access-controller-9-user-s-guide.pdf?language=en-us\")\n",
    "data = loader.load()"
   ]
  },
  {
   "cell_type": "code",
   "execution_count": 18,
   "metadata": {},
   "outputs": [],
   "source": [
    "from langchain_text_splitters import RecursiveCharacterTextSplitter\n",
    "\n",
    "text_splitter = RecursiveCharacterTextSplitter(chunk_size=500, chunk_overlap=0)\n",
    "all_splits = text_splitter.split_documents(data)"
   ]
  },
  {
   "cell_type": "code",
   "execution_count": 19,
   "metadata": {},
   "outputs": [],
   "source": [
    "from langchain_chroma import Chroma\n",
    "from langchain_community.embeddings import GPT4AllEmbeddings\n",
    "\n",
    "vectorstore = Chroma.from_documents(documents=all_splits, embedding=GPT4AllEmbeddings(model_name=\"all-MiniLM-L6-v2.gguf2.f16.gguf\"))"
   ]
  },
  {
   "cell_type": "code",
   "execution_count": 29,
   "metadata": {},
   "outputs": [
    {
     "data": {
      "text/plain": [
       "[Document(page_content='To view the SFP Transceiver device information using RACADM, use the hwinventory  command.\\nFor more information, see the iDRAC RACADM CLI Guide  available at https://www.dell.com/idracmanuals .\\nTelemetry Streaming\\nTelemetry enables users to collect and stream real-time device metrics, events, and data logs from a PowerEdge server to a\\nsubscribed external client or server application. Using Telemetry, you can set the type and frequency of reports that needs to be\\ngenerated.', metadata={'page': 207, 'source': 'https://dl.dell.com/content/manual24574503-integrated-dell-remote-access-controller-9-user-s-guide.pdf?language=en-us'}),\n",
       " Document(page_content='information about the properties that are displayed on the web interface, see the iDRAC Online Help .\\nNOTE:  The Hardware Overview page displays data only for sensors present on your system.\\nTable 17. Sensor information using web interface and RACADM \\nView sensor information For Using web interface Using RACADM\\nBatteries Dashboard  > System Health  >\\nBatteriesUse the getsensorinfo  command.\\nFor power supplies, you can also use\\nthe System.Power.Supply  command\\nwith the get subcommand.', metadata={'page': 115, 'source': 'https://dl.dell.com/content/manual24574503-integrated-dell-remote-access-controller-9-user-s-guide.pdf?language=en-us'}),\n",
       " Document(page_content='Monitoring SFP Transceiver devices using web interface\\nTo view theSFP Transceiver device information using Web interface, go to  System  > Overview  > Network Devices  and click\\non particular device. For more information about the displayed properties, see iDRAC Online Help .\\nThe page name also displays the slot number where the transceiver device is available under Port statistics.\\nMonitoring SFP Transceiver devices using RACADM', metadata={'page': 207, 'source': 'https://dl.dell.com/content/manual24574503-integrated-dell-remote-access-controller-9-user-s-guide.pdf?language=en-us'}),\n",
       " Document(page_content='4.Click the \\n  icon to display more details.\\nSimilarly, you can view the host OS network interface information associated with a network device from the Hardware  >\\nNetwork Devices  page. Click View Host OS Network Interfaces .\\n122 Viewing iDRAC and managed system information', metadata={'page': 121, 'source': 'https://dl.dell.com/content/manual24574503-integrated-dell-remote-access-controller-9-user-s-guide.pdf?language=en-us'})]"
      ]
     },
     "execution_count": 29,
     "metadata": {},
     "output_type": "execute_result"
    }
   ],
   "source": [
    "# k is the number of chunks to retrieve\n",
    "retriever = vectorstore.as_retriever(k=4)\n",
    "\n",
    "docs = retriever.invoke(\"how to access FRU information?\")\n",
    "\n",
    "docs"
   ]
  },
  {
   "cell_type": "code",
   "execution_count": 30,
   "metadata": {},
   "outputs": [],
   "source": [
    "from langchain.chains.combine_documents import create_stuff_documents_chain\n",
    "from langchain_community.chat_models import ChatOllama\n",
    "from langchain_core.prompts import ChatPromptTemplate, MessagesPlaceholder\n",
    "\n",
    "chat = ChatOllama(model=\"llama3\", base_url=\"http://10.0.0.147:11434\", temperature=0)\n",
    "\n",
    "question_answering_prompt = ChatPromptTemplate.from_messages(\n",
    "    [\n",
    "        (\n",
    "            \"system\",\n",
    "            \"Answer the user's questions based on the below context:\\n\\n{context}\",\n",
    "        ),\n",
    "        MessagesPlaceholder(variable_name=\"messages\"),\n",
    "    ]\n",
    ")\n",
    "\n",
    "document_chain = create_stuff_documents_chain(chat, question_answering_prompt)"
   ]
  },
  {
   "cell_type": "code",
   "execution_count": 31,
   "metadata": {},
   "outputs": [
    {
     "data": {
      "text/plain": [
       "RunnableBinding(bound=RunnableBinding(bound=RunnableAssign(mapper={\n",
       "  context: RunnableLambda(format_docs)\n",
       "}), config={'run_name': 'format_inputs'})\n",
       "| ChatPromptTemplate(input_variables=['context', 'messages'], input_types={'messages': typing.List[typing.Union[langchain_core.messages.ai.AIMessage, langchain_core.messages.human.HumanMessage, langchain_core.messages.chat.ChatMessage, langchain_core.messages.system.SystemMessage, langchain_core.messages.function.FunctionMessage, langchain_core.messages.tool.ToolMessage]]}, messages=[SystemMessagePromptTemplate(prompt=PromptTemplate(input_variables=['context'], template=\"Answer the user's questions based on the below context:\\n\\n{context}\")), MessagesPlaceholder(variable_name='messages')])\n",
       "| ChatOllama(base_url='http://10.0.0.147:11434', model='llama3', temperature=0.0)\n",
       "| StrOutputParser(), config={'run_name': 'stuff_documents_chain'})"
      ]
     },
     "execution_count": 31,
     "metadata": {},
     "output_type": "execute_result"
    }
   ],
   "source": [
    "document_chain"
   ]
  },
  {
   "cell_type": "code",
   "execution_count": 37,
   "metadata": {},
   "outputs": [],
   "source": [
    "from langchain.memory import ChatMessageHistory\n",
    "\n",
    "demo_ephemeral_chat_history = ChatMessageHistory()\n",
    "\n",
    "demo_ephemeral_chat_history.add_user_message(\"how to access FRU information?\")\n",
    "\n",
    "response = document_chain.invoke(\n",
    "    {\n",
    "        \"messages\": demo_ephemeral_chat_history.messages,\n",
    "        \"context\": docs,\n",
    "    }\n",
    ")"
   ]
  },
  {
   "cell_type": "code",
   "execution_count": 41,
   "metadata": {},
   "outputs": [
    {
     "name": "stdout",
     "output_type": "stream",
     "text": [
      "To access FRU (Field Replaceable Unit) information using RACADM, you can use the following command:\n",
      "\n",
      "1. Open a command prompt or terminal window.\n",
      "2. Navigate to the directory where the RACADM executable is located.\n",
      "3. Run the following command:\n",
      "```\n",
      "racadm iwracsensor -getfruinfo\n",
      "```\n",
      "This command retrieves FRU information from the system and displays it in a table format.\n",
      "\n",
      "Alternatively, you can also access FRU information using the iDRAC web interface:\n",
      "\n",
      "1. Log in to the iDRAC web interface.\n",
      "2. Click on the \"System\" tab.\n",
      "3. Click on \"Overview\".\n",
      "4. Scroll down to the \"FRU Information\" section.\n",
      "5. Click on the \"View FRU Information\" button.\n",
      "\n",
      "This will display a table with information about the FRUs (Field Replaceable Units) installed in your system, including their serial numbers, part numbers, and other relevant details.\n"
     ]
    }
   ],
   "source": [
    "print(response)\n",
    "demo_ephemeral_chat_history.add_ai_message(response)"
   ]
  },
  {
   "cell_type": "code",
   "execution_count": 42,
   "metadata": {},
   "outputs": [],
   "source": [
    "demo_ephemeral_chat_history.add_user_message(\"tell me more\")\n",
    "\n",
    "response = document_chain.invoke(\n",
    "    {\n",
    "        \"messages\": demo_ephemeral_chat_history.messages,\n",
    "        \"context\": docs,\n",
    "    }\n",
    ")"
   ]
  },
  {
   "cell_type": "code",
   "execution_count": 44,
   "metadata": {},
   "outputs": [
    {
     "name": "stdout",
     "output_type": "stream",
     "text": [
      "Here are some additional details on how to access FRU (Field Replaceable Unit) information using RACADM:\n",
      "\n",
      "**Using RACADM:**\n",
      "\n",
      "1. Open a command prompt or terminal window.\n",
      "2. Navigate to the directory where the RACADM executable is located.\n",
      "3. Run the following command:\n",
      "```\n",
      "racadm iwracsensor -getfruinfo\n",
      "```\n",
      "This command retrieves FRU information from the system and displays it in a table format.\n",
      "\n",
      "**Using iDRAC Web Interface:**\n",
      "\n",
      "1. Log in to the iDRAC web interface.\n",
      "2. Click on the \"System\" tab.\n",
      "3. Click on \"Overview\".\n",
      "4. Scroll down to the \"FRU Information\" section.\n",
      "5. Click on the \"View FRU Information\" button.\n",
      "\n",
      "This will display a table with information about the FRUs (Field Replaceable Units) installed in your system, including their serial numbers, part numbers, and other relevant details.\n",
      "\n",
      "**Additional Tips:**\n",
      "\n",
      "* Make sure you have the correct version of RACADM installed on your system.\n",
      "* If you are using RACADM for the first time, you may need to configure it by running the `racadm setup` command.\n",
      "* You can also use the `racadm iwracsensor -getfruinfo -slot <slot_number>` command to retrieve FRU information for a specific slot number.\n",
      "\n",
      "I hope this helps! Let me know if you have any further questions.\n"
     ]
    }
   ],
   "source": [
    "print(response)"
   ]
  },
  {
   "cell_type": "code",
   "execution_count": null,
   "metadata": {},
   "outputs": [],
   "source": []
  }
 ],
 "metadata": {
  "kernelspec": {
   "display_name": "langchain",
   "language": "python",
   "name": "python3"
  },
  "language_info": {
   "codemirror_mode": {
    "name": "ipython",
    "version": 3
   },
   "file_extension": ".py",
   "mimetype": "text/x-python",
   "name": "python",
   "nbconvert_exporter": "python",
   "pygments_lexer": "ipython3",
   "version": "3.12.3"
  }
 },
 "nbformat": 4,
 "nbformat_minor": 2
}
