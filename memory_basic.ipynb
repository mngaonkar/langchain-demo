{
 "cells": [
  {
   "cell_type": "code",
   "execution_count": 99,
   "metadata": {},
   "outputs": [],
   "source": [
    "from langchain_core.messages import AIMessage, HumanMessage \n",
    "from langchain_core.prompts import ChatPromptTemplate, MessagesPlaceholder"
   ]
  },
  {
   "cell_type": "code",
   "execution_count": 100,
   "metadata": {},
   "outputs": [],
   "source": [
    "prompt = ChatPromptTemplate.from_messages(\n",
    "    [(\n",
    "        \"system\",\n",
    "        \"You are a helpful assistant. Answer all questions to the best of your ability.\"\n",
    "    ),\n",
    "        MessagesPlaceholder(variable_name=\"messages\")]\n",
    ")"
   ]
  },
  {
   "cell_type": "code",
   "execution_count": 101,
   "metadata": {},
   "outputs": [],
   "source": [
    "from langchain_community.chat_models import ChatOllama\n",
    "chat = ChatOllama(model=\"llama2\", base_url=\"http://10.0.0.147:11434\", temperature=0)"
   ]
  },
  {
   "cell_type": "code",
   "execution_count": 102,
   "metadata": {},
   "outputs": [],
   "source": [
    "chain = prompt | chat"
   ]
  },
  {
   "cell_type": "code",
   "execution_count": 103,
   "metadata": {},
   "outputs": [],
   "source": [
    "from langchain.memory import ChatMessageHistory\n",
    "history = ChatMessageHistory()\n",
    "history.add_message(HumanMessage(content=\"What is the capital of France?\"))\n",
    "history.add_message(AIMessage(content=\"Paris\"))"
   ]
  },
  {
   "cell_type": "code",
   "execution_count": 104,
   "metadata": {},
   "outputs": [],
   "source": [
    "history.add_message(HumanMessage(content=\"What is the capital of Japan?\"))\n",
    "response = chain.invoke(\n",
    "    {\n",
    "        \"messages\": history.messages\n",
    "    }\n",
    ")"
   ]
  },
  {
   "cell_type": "code",
   "execution_count": 105,
   "metadata": {},
   "outputs": [
    {
     "data": {
      "text/plain": [
       "AIMessage(content='The capital of Japan is Tokyo.', response_metadata={'model': 'llama2', 'created_at': '2024-05-28T06:24:43.568216188Z', 'message': {'role': 'assistant', 'content': ''}, 'done': True, 'total_duration': 2641379926, 'load_duration': 2507378529, 'prompt_eval_count': 70, 'prompt_eval_duration': 82543000, 'eval_count': 8, 'eval_duration': 50967000}, id='run-7dfbc4bd-2fbf-43b6-9fd3-e6959a7fe340-0')"
      ]
     },
     "execution_count": 105,
     "metadata": {},
     "output_type": "execute_result"
    }
   ],
   "source": [
    "response"
   ]
  },
  {
   "cell_type": "code",
   "execution_count": 106,
   "metadata": {},
   "outputs": [],
   "source": [
    "history.add_ai_message(response.content)"
   ]
  },
  {
   "cell_type": "code",
   "execution_count": 107,
   "metadata": {},
   "outputs": [
    {
     "data": {
      "text/plain": [
       "[HumanMessage(content='What is the capital of France?'),\n",
       " AIMessage(content='Paris'),\n",
       " HumanMessage(content='What is the capital of Japan?'),\n",
       " AIMessage(content='The capital of Japan is Tokyo.')]"
      ]
     },
     "execution_count": 107,
     "metadata": {},
     "output_type": "execute_result"
    }
   ],
   "source": [
    "history.messages"
   ]
  },
  {
   "cell_type": "code",
   "execution_count": 108,
   "metadata": {},
   "outputs": [],
   "source": [
    "history.add_message(HumanMessage(content=\"What is the capital of the United States?\"))"
   ]
  },
  {
   "cell_type": "code",
   "execution_count": 109,
   "metadata": {},
   "outputs": [],
   "source": [
    "response = chain.invoke(\n",
    "    {\n",
    "        \"messages\": history.messages\n",
    "    }\n",
    ")"
   ]
  },
  {
   "cell_type": "code",
   "execution_count": 110,
   "metadata": {},
   "outputs": [
    {
     "data": {
      "text/plain": [
       "AIMessage(content='The capital of the United States is Washington, D.C. (District of Columbia).', response_metadata={'model': 'llama2', 'created_at': '2024-05-28T06:24:52.419735573Z', 'message': {'role': 'assistant', 'content': ''}, 'done': True, 'total_duration': 234686178, 'load_duration': 1359134, 'prompt_eval_count': 28, 'prompt_eval_duration': 78021000, 'eval_count': 22, 'eval_duration': 152983000}, id='run-049855e1-2a5d-41b9-a494-a40f2bedbf97-0')"
      ]
     },
     "execution_count": 110,
     "metadata": {},
     "output_type": "execute_result"
    }
   ],
   "source": [
    "response"
   ]
  },
  {
   "cell_type": "code",
   "execution_count": null,
   "metadata": {},
   "outputs": [],
   "source": []
  },
  {
   "cell_type": "code",
   "execution_count": null,
   "metadata": {},
   "outputs": [],
   "source": []
  },
  {
   "cell_type": "code",
   "execution_count": null,
   "metadata": {},
   "outputs": [],
   "source": []
  }
 ],
 "metadata": {
  "kernelspec": {
   "display_name": "langchain",
   "language": "python",
   "name": "python3"
  },
  "language_info": {
   "codemirror_mode": {
    "name": "ipython",
    "version": 3
   },
   "file_extension": ".py",
   "mimetype": "text/x-python",
   "name": "python",
   "nbconvert_exporter": "python",
   "pygments_lexer": "ipython3",
   "version": "3.12.3"
  }
 },
 "nbformat": 4,
 "nbformat_minor": 2
}
